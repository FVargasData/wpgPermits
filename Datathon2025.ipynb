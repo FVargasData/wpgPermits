{
  "nbformat": 4,
  "nbformat_minor": 0,
  "metadata": {
    "colab": {
      "provenance": [],
      "authorship_tag": "ABX9TyMIW1oA66NR13XWhSlqVRn0",
      "include_colab_link": true
    },
    "kernelspec": {
      "name": "python3",
      "display_name": "Python 3"
    },
    "language_info": {
      "name": "python"
    }
  },
  "cells": [
    {
      "cell_type": "markdown",
      "metadata": {
        "id": "view-in-github",
        "colab_type": "text"
      },
      "source": [
        "<a href=\"https://colab.research.google.com/github/FVargasData/wpgPermits/blob/DataCollectionTest/Datathon2025.ipynb\" target=\"_parent\"><img src=\"https://colab.research.google.com/assets/colab-badge.svg\" alt=\"Open In Colab\"/></a>"
      ]
    },
    {
      "cell_type": "markdown",
      "source": [
        "# Import necessary libraries"
      ],
      "metadata": {
        "id": "RLqAhW0K-EZ5"
      }
    },
    {
      "cell_type": "code",
      "execution_count": 7,
      "metadata": {
        "id": "i-CXwMyH3Dr2"
      },
      "outputs": [],
      "source": [
        "import requests\n",
        "import pandas as pd\n",
        "import numpy as np\n",
        "import matplotlib.pyplot as plt\n",
        "import seaborn as sns\n",
        "import datetime\n",
        "import time\n",
        "import logging\n",
        "\n",
        "from sklearn.model_selection import train_test_split\n",
        "from sklearn.preprocessing import LabelEncoder\n",
        "from sklearn.tree import DecisionTreeClassifier\n",
        "from sklearn.ensemble import RandomForestClassifier\n",
        "from sklearn.metrics import accuracy_score, classification_report"
      ]
    },
    {
      "cell_type": "markdown",
      "source": [
        "# Set seaborn pastel palette for visualizations"
      ],
      "metadata": {
        "id": "L84PMhwMHPXL"
      }
    },
    {
      "cell_type": "code",
      "source": [
        "sns.set_palette(\"pastel\")\n",
        "sns.set_style(\"whitegrid\")"
      ],
      "metadata": {
        "id": "PYxGaU-3HReg"
      },
      "execution_count": 8,
      "outputs": []
    },
    {
      "cell_type": "markdown",
      "source": [
        "# Set logging configuration"
      ],
      "metadata": {
        "id": "vcC908bVHb6S"
      }
    },
    {
      "cell_type": "code",
      "source": [
        "logging.basicConfig(level=logging.INFO, format='%(asctime)s - %(levelname)s - %(message)s')"
      ],
      "metadata": {
        "id": "ElqbZFdxHfuD"
      },
      "execution_count": 9,
      "outputs": []
    },
    {
      "cell_type": "markdown",
      "source": [
        "# Configuration and API parameters"
      ],
      "metadata": {
        "id": "cpcCT50bHyHq"
      }
    },
    {
      "cell_type": "code",
      "source": [
        "API_URL = \"https://data.winnipeg.ca/resource/urbd-qygv.json\"\n",
        "APP_TOKEN = \"CvU5WTCBwn36S6Vxebw1QjJVd\"\n",
        "CHUNK_SIZE = 1000  # number of rows per request (Socrata default)\n",
        "MAX_ROWS = 330000  # maximum rows expected"
      ],
      "metadata": {
        "id": "Zir_TLlJHzcj"
      },
      "execution_count": 10,
      "outputs": []
    },
    {
      "cell_type": "markdown",
      "source": [
        "# Columns to be retained based on our analysis"
      ],
      "metadata": {
        "id": "1RoQdwhzIVtj"
      }
    },
    {
      "cell_type": "code",
      "source": [
        "COLUMNS_TO_KEEP = [\n",
        "    \"issue_date\", \"permit_group\", \"permit_type\", \"sub_type\", \"work_type\",\n",
        "    \"neighbourhood_name\", \"community\", \"ward\", \"application_received_date\", \"status\",\n",
        "    \"x_coordinate_nad83\", \"y_coordinate_nad83\"\n",
        "]"
      ],
      "metadata": {
        "id": "bOHy8VlpIhCB"
      },
      "execution_count": 11,
      "outputs": []
    },
    {
      "cell_type": "markdown",
      "source": [
        "#FUNCTIONS SECTION"
      ],
      "metadata": {
        "id": "rRlccazKJCS2"
      }
    },
    {
      "cell_type": "markdown",
      "source": [
        "## This function will Fetch all rows from the API using pagination. I will return a DataFrame containing all the data."
      ],
      "metadata": {
        "id": "qD5Vu82wJMar"
      }
    },
    {
      "cell_type": "code",
      "source": [
        "def fetch_data(api_url, app_token, chunk_size=1000, max_rows=330000):\n",
        "    headers = {\"X-App-Token\": app_token}\n",
        "    all_data = []\n",
        "    offset = 0\n",
        "\n",
        "    logging.info(\"Starting data collection from API...\")\n",
        "    while offset < max_rows:\n",
        "        params = {\n",
        "            \"$limit\": chunk_size,\n",
        "            \"$offset\": offset\n",
        "        }\n",
        "        try:\n",
        "            response = requests.get(api_url, headers=headers, params=params)\n",
        "            response.raise_for_status()\n",
        "            data_chunk = response.json()\n",
        "            if not data_chunk:\n",
        "                logging.info(\"No more data returned from API.\")\n",
        "                break\n",
        "            all_data.extend(data_chunk)\n",
        "            offset += chunk_size\n",
        "            logging.info(f\"Fetched {len(data_chunk)} rows; total so far: {len(all_data)}\")\n",
        "            # To avoid hitting rate limits\n",
        "            time.sleep(0.2)\n",
        "        except Exception as e:\n",
        "            logging.error(\"Error during API request: \" + str(e))\n",
        "            break\n",
        "\n",
        "    logging.info(f\"Data collection complete. Total rows fetched: {len(all_data)}\")\n",
        "    return pd.DataFrame(all_data)"
      ],
      "metadata": {
        "id": "Q6QDxq7qJbpq"
      },
      "execution_count": 20,
      "outputs": []
    },
    {
      "cell_type": "markdown",
      "source": [
        "## Visualize funcitonality"
      ],
      "metadata": {
        "id": "AAVXHhEQJtrF"
      }
    },
    {
      "cell_type": "markdown",
      "source": [
        "### # 1. Data Collection"
      ],
      "metadata": {
        "id": "o5V3UiCwJ4Hb"
      }
    },
    {
      "cell_type": "code",
      "source": [
        "df_raw = fetch_data(API_URL, APP_TOKEN, chunk_size=CHUNK_SIZE, max_rows=1000)\n",
        "\n",
        "if df_raw.empty:\n",
        "  logging.error(\"No data fetched. Exiting.\")"
      ],
      "metadata": {
        "id": "31BkMCvCJ0_h"
      },
      "execution_count": 24,
      "outputs": []
    }
  ]
}