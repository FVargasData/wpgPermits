{
  "nbformat": 4,
  "nbformat_minor": 0,
  "metadata": {
    "colab": {
      "provenance": [],
      "authorship_tag": "ABX9TyPQKxhtmLZZdK0q/vzpJ0oL",
      "include_colab_link": true
    },
    "kernelspec": {
      "name": "python3",
      "display_name": "Python 3"
    },
    "language_info": {
      "name": "python"
    }
  },
  "cells": [
    {
      "cell_type": "markdown",
      "metadata": {
        "id": "view-in-github",
        "colab_type": "text"
      },
      "source": [
        "<a href=\"https://colab.research.google.com/github/FVargasData/wpgPermits/blob/Initial-Setup/Datathon2025.ipynb\" target=\"_parent\"><img src=\"https://colab.research.google.com/assets/colab-badge.svg\" alt=\"Open In Colab\"/></a>"
      ]
    },
    {
      "cell_type": "markdown",
      "source": [
        "# Import necessary libraries"
      ],
      "metadata": {
        "id": "RLqAhW0K-EZ5"
      }
    },
    {
      "cell_type": "code",
      "execution_count": null,
      "metadata": {
        "id": "i-CXwMyH3Dr2"
      },
      "outputs": [],
      "source": [
        "import requests\n",
        "import pandas as pd\n",
        "import numpy as np\n",
        "import matplotlib.pyplot as plt\n",
        "import seaborn as sns\n",
        "import datetime\n",
        "import time\n",
        "import logging\n",
        "\n",
        "from sklearn.model_selection import train_test_split\n",
        "from sklearn.preprocessing import LabelEncoder\n",
        "from sklearn.tree import DecisionTreeClassifier\n",
        "from sklearn.ensemble import RandomForestClassifier\n",
        "from sklearn.metrics import accuracy_score, classification_report"
      ]
    },
    {
      "cell_type": "markdown",
      "source": [
        "# Set seaborn pastel palette for visualizations"
      ],
      "metadata": {
        "id": "L84PMhwMHPXL"
      }
    },
    {
      "cell_type": "code",
      "source": [
        "sns.set_palette(\"pastel\")\n",
        "sns.set_style(\"whitegrid\")"
      ],
      "metadata": {
        "id": "PYxGaU-3HReg"
      },
      "execution_count": null,
      "outputs": []
    },
    {
      "cell_type": "markdown",
      "source": [
        "# Set logging configuration"
      ],
      "metadata": {
        "id": "vcC908bVHb6S"
      }
    },
    {
      "cell_type": "code",
      "source": [
        "logging.basicConfig(level=logging.INFO, format='%(asctime)s - %(levelname)s - %(message)s')"
      ],
      "metadata": {
        "id": "ElqbZFdxHfuD"
      },
      "execution_count": null,
      "outputs": []
    },
    {
      "cell_type": "markdown",
      "source": [
        "# CONFIGURATION and API parameters"
      ],
      "metadata": {
        "id": "cpcCT50bHyHq"
      }
    },
    {
      "cell_type": "code",
      "source": [
        "API_URL = \"https://data.winnipeg.ca/resource/urbd-qygv.json\"\n",
        "APP_TOKEN = \"CvU5WTCBwn36S6Vxebw1QjJVd\"\n",
        "CHUNK_SIZE = 1000  # number of rows per request (Socrata default)\n",
        "MAX_ROWS = 330000  # maximum rows expected"
      ],
      "metadata": {
        "id": "Zir_TLlJHzcj"
      },
      "execution_count": null,
      "outputs": []
    },
    {
      "cell_type": "markdown",
      "source": [
        "# Columns to be retained based on our analysis"
      ],
      "metadata": {
        "id": "1RoQdwhzIVtj"
      }
    },
    {
      "cell_type": "code",
      "source": [
        "COLUMNS_TO_KEEP = [\n",
        "    \"issue_date\", \"permit_group\", \"permit_type\", \"sub_type\", \"work_type\",\n",
        "    \"neighbourhood_name\", \"community\", \"ward\", \"application_received_date\", \"status\",\n",
        "    \"x_coordinate_nad83\", \"y_coordinate_nad83\"\n",
        "]"
      ],
      "metadata": {
        "id": "bOHy8VlpIhCB"
      },
      "execution_count": null,
      "outputs": []
    }
  ]
}