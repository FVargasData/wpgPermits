{
  "nbformat": 4,
  "nbformat_minor": 0,
  "metadata": {
    "colab": {
      "provenance": [],
      "authorship_tag": "ABX9TyNB81B1AenWeJ9sFepeaq7p",
      "include_colab_link": true
    },
    "kernelspec": {
      "name": "python3",
      "display_name": "Python 3"
    },
    "language_info": {
      "name": "python"
    }
  },
  "cells": [
    {
      "cell_type": "markdown",
      "metadata": {
        "id": "view-in-github",
        "colab_type": "text"
      },
      "source": [
        "<a href=\"https://colab.research.google.com/github/FVargasData/wpgPermits/blob/Data-CleaningTest/Datathon2025.ipynb\" target=\"_parent\"><img src=\"https://colab.research.google.com/assets/colab-badge.svg\" alt=\"Open In Colab\"/></a>"
      ]
    },
    {
      "cell_type": "markdown",
      "source": [
        "# Import necessary libraries"
      ],
      "metadata": {
        "id": "RLqAhW0K-EZ5"
      }
    },
    {
      "cell_type": "code",
      "execution_count": 7,
      "metadata": {
        "id": "i-CXwMyH3Dr2"
      },
      "outputs": [],
      "source": [
        "import requests\n",
        "import pandas as pd\n",
        "import numpy as np\n",
        "import matplotlib.pyplot as plt\n",
        "import seaborn as sns\n",
        "import datetime\n",
        "import time\n",
        "import logging\n",
        "\n",
        "from sklearn.model_selection import train_test_split\n",
        "from sklearn.preprocessing import LabelEncoder\n",
        "from sklearn.tree import DecisionTreeClassifier\n",
        "from sklearn.ensemble import RandomForestClassifier\n",
        "from sklearn.metrics import accuracy_score, classification_report"
      ]
    },
    {
      "cell_type": "markdown",
      "source": [
        "# Set seaborn pastel palette for visualizations"
      ],
      "metadata": {
        "id": "L84PMhwMHPXL"
      }
    },
    {
      "cell_type": "code",
      "source": [
        "sns.set_palette(\"pastel\")\n",
        "sns.set_style(\"whitegrid\")"
      ],
      "metadata": {
        "id": "PYxGaU-3HReg"
      },
      "execution_count": 8,
      "outputs": []
    },
    {
      "cell_type": "markdown",
      "source": [
        "# Set logging configuration"
      ],
      "metadata": {
        "id": "vcC908bVHb6S"
      }
    },
    {
      "cell_type": "code",
      "source": [
        "logging.basicConfig(level=logging.INFO, format='%(asctime)s - %(levelname)s - %(message)s')"
      ],
      "metadata": {
        "id": "ElqbZFdxHfuD"
      },
      "execution_count": 9,
      "outputs": []
    },
    {
      "cell_type": "markdown",
      "source": [
        "# Configuration and API parameters"
      ],
      "metadata": {
        "id": "cpcCT50bHyHq"
      }
    },
    {
      "cell_type": "code",
      "source": [
        "API_URL = \"https://data.winnipeg.ca/resource/urbd-qygv.json\"\n",
        "APP_TOKEN = \"CvU5WTCBwn36S6Vxebw1QjJVd\"\n",
        "CHUNK_SIZE = 1000  # number of rows per request (Socrata default)\n",
        "MAX_ROWS = 330000  # maximum rows expected"
      ],
      "metadata": {
        "id": "Zir_TLlJHzcj"
      },
      "execution_count": 10,
      "outputs": []
    },
    {
      "cell_type": "markdown",
      "source": [
        "# Columns to be retained based on our analysis"
      ],
      "metadata": {
        "id": "1RoQdwhzIVtj"
      }
    },
    {
      "cell_type": "code",
      "source": [
        "COLUMNS_TO_KEEP = [\n",
        "    \"issue_date\", \"permit_group\", \"permit_type\", \"sub_type\", \"work_type\",\n",
        "    \"neighbourhood_name\", \"community\", \"ward\", \"application_received_date\", \"status\",\n",
        "    \"x_coordinate_nad83\", \"y_coordinate_nad83\"\n",
        "]"
      ],
      "metadata": {
        "id": "bOHy8VlpIhCB"
      },
      "execution_count": 11,
      "outputs": []
    },
    {
      "cell_type": "markdown",
      "source": [
        "#FUNCTIONS SECTION"
      ],
      "metadata": {
        "id": "rRlccazKJCS2"
      }
    },
    {
      "cell_type": "markdown",
      "source": [
        "## This function will Fetch all rows from the API using pagination. I will return a DataFrame containing all the data."
      ],
      "metadata": {
        "id": "qD5Vu82wJMar"
      }
    },
    {
      "cell_type": "code",
      "source": [
        "def fetch_data(api_url, app_token, chunk_size=1000, max_rows=330000):\n",
        "    headers = {\"X-App-Token\": app_token}\n",
        "    all_data = []\n",
        "    offset = 0\n",
        "\n",
        "    logging.info(\"Starting data collection from API...\")\n",
        "    while offset < max_rows:\n",
        "        params = {\n",
        "            \"$limit\": chunk_size,\n",
        "            \"$offset\": offset\n",
        "        }\n",
        "        try:\n",
        "            response = requests.get(api_url, headers=headers, params=params)\n",
        "            response.raise_for_status()\n",
        "            data_chunk = response.json()\n",
        "            if not data_chunk:\n",
        "                logging.info(\"No more data returned from API.\")\n",
        "                break\n",
        "            all_data.extend(data_chunk)\n",
        "            offset += chunk_size\n",
        "            logging.info(f\"Fetched {len(data_chunk)} rows; total so far: {len(all_data)}\")\n",
        "            # To avoid hitting rate limits\n",
        "            time.sleep(0.2)\n",
        "        except Exception as e:\n",
        "            logging.error(\"Error during API request: \" + str(e))\n",
        "            break\n",
        "\n",
        "    logging.info(f\"Data collection complete. Total rows fetched: {len(all_data)}\")\n",
        "    return pd.DataFrame(all_data)"
      ],
      "metadata": {
        "id": "Q6QDxq7qJbpq"
      },
      "execution_count": 20,
      "outputs": []
    },
    {
      "cell_type": "markdown",
      "source": [
        "## Clean and preprocess the raw DataFrame."
      ],
      "metadata": {
        "id": "UBQ24AP0Nnuk"
      }
    },
    {
      "cell_type": "code",
      "source": [
        "def clean_data(df):\n",
        "\n",
        "    # Retain only the required columns (if present)\n",
        "    df = df[[col for col in COLUMNS_TO_KEEP if col in df.columns]].copy()\n",
        "\n",
        "    # Convert date columns to datetime\n",
        "    for col in ['issue_date', 'application_received_date']:\n",
        "        if col in df.columns:\n",
        "            df[col] = pd.to_datetime(df[col], errors='coerce')\n",
        "            assert df[col].dtype == '<M8[ns]', f\"Column {col} was not converted properly.\"\n",
        "\n",
        "    # Convert coordinate columns to numeric\n",
        "    for col in ['x_coordinate_nad83', 'y_coordinate_nad83']:\n",
        "        if col in df.columns:\n",
        "            df[col] = pd.to_numeric(df[col], errors='coerce')\n",
        "\n",
        "    # Optional: Clean text columns (strip whitespace)\n",
        "    text_cols = ['permit_group', 'permit_type', 'sub_type', 'work_type',\n",
        "                 'neighbourhood_name', 'community', 'ward', 'status']\n",
        "    for col in text_cols:\n",
        "        if col in df.columns:\n",
        "            df[col] = df[col].astype(str).str.strip()\n",
        "\n",
        "    logging.info(\"Data cleaning complete.\")\n",
        "    return df"
      ],
      "metadata": {
        "id": "iPc724bHNuna"
      },
      "execution_count": 31,
      "outputs": []
    },
    {
      "cell_type": "markdown",
      "source": [
        "## Visualize funcitonality"
      ],
      "metadata": {
        "id": "AAVXHhEQJtrF"
      }
    },
    {
      "cell_type": "markdown",
      "source": [
        "### 1. Data Collection"
      ],
      "metadata": {
        "id": "o5V3UiCwJ4Hb"
      }
    },
    {
      "cell_type": "code",
      "source": [
        "df_raw = fetch_data(API_URL, APP_TOKEN, chunk_size=CHUNK_SIZE, max_rows=100000)\n",
        "\n",
        "if df_raw.empty:\n",
        "  logging.error(\"No data fetched. Exiting.\")\n",
        "\n",
        "print(df_raw.head())"
      ],
      "metadata": {
        "colab": {
          "base_uri": "https://localhost:8080/"
        },
        "id": "31BkMCvCJ0_h",
        "outputId": "6a5fd25f-06e8-4458-e5f2-947321c665a3"
      },
      "execution_count": 29,
      "outputs": [
        {
          "output_type": "stream",
          "name": "stdout",
          "text": [
            "                issue_date permit_number permit_group             permit_type  \\\n",
            "0  2021-03-24T00:00:00.000  21-130863 ER        Trade  Electrical Residential   \n",
            "1  2021-06-16T00:00:00.000  21-164934 ER        Trade  Electrical Residential   \n",
            "2  2021-06-16T00:00:00.000  21-168248 PR        Trade    Plumbing Residential   \n",
            "3  2021-11-04T00:00:00.000  21-233173 PR        Trade    Plumbing Residential   \n",
            "4  2021-04-06T00:00:00.000  21-134716 EC        Trade   Electrical Commercial   \n",
            "\n",
            "                         sub_type               work_type street_number  \\\n",
            "0                       Homeowner            Service Only            15   \n",
            "1                       Homeowner            Service Only            94   \n",
            "2                       Homeowner       Plumb Lower Level            34   \n",
            "3    Licensed Plumbing Contractor           Plumb New SFD          1831   \n",
            "4  Licensed Electrical Contractor  Temporary Installation           606   \n",
            "\n",
            "  street_name street_type neighbourhood_number  ...  \\\n",
            "0     Deswood          PL                5.552  ...   \n",
            "1    Dockside         WAY                5.556  ...   \n",
            "2      Gascon          RD                5.554  ...   \n",
            "3   Alexander         AVE                3.124  ...   \n",
            "4  Stradbrook         AVE                 1.11  ...   \n",
            "\n",
            "                                            location  \\\n",
            "0  {'type': 'Point', 'coordinates': [-97.05829351...   \n",
            "1  {'type': 'Point', 'coordinates': [-97.06117136...   \n",
            "2  {'type': 'Point', 'coordinates': [-97.09287668...   \n",
            "3                                                NaN   \n",
            "4                                                NaN   \n",
            "\n",
            "  :@computed_region_66r8_mmhg :@computed_region_6rfj_69jf  \\\n",
            "0                          13                           8   \n",
            "1                          13                           8   \n",
            "2                          10                          11   \n",
            "3                         NaN                         NaN   \n",
            "4                         NaN                         NaN   \n",
            "\n",
            "  :@computed_region_38v8_cedi parent_permit_number applicant_business_name  \\\n",
            "0                          61                  NaN                     NaN   \n",
            "1                         208                  NaN                     NaN   \n",
            "2                         207                  NaN                     NaN   \n",
            "3                         NaN         21-158222 HO   Group 3 Plumbing Ltd.   \n",
            "4                         NaN                  NaN       Powertec Electric   \n",
            "\n",
            "                final_date unit_type unit_number street_direction  \n",
            "0                      NaN       NaN         NaN              NaN  \n",
            "1                      NaN       NaN         NaN              NaN  \n",
            "2                      NaN       NaN         NaN              NaN  \n",
            "3                      NaN       NaN         NaN              NaN  \n",
            "4  2021-04-13T00:00:00.000       NaN         NaN              NaN  \n",
            "\n",
            "[5 rows x 27 columns]\n"
          ]
        }
      ]
    },
    {
      "cell_type": "markdown",
      "source": [
        "### 2. Data Cleaning"
      ],
      "metadata": {
        "id": "R0aqXEdkN4c0"
      }
    },
    {
      "cell_type": "code",
      "source": [
        "df_clean = clean_data(df_raw)\n",
        "\n",
        "print(df_clean.head())"
      ],
      "metadata": {
        "colab": {
          "base_uri": "https://localhost:8080/"
        },
        "id": "2uz1rCVjOHv5",
        "outputId": "7a582da4-d206-422a-81a2-6062165402d3"
      },
      "execution_count": 32,
      "outputs": [
        {
          "output_type": "stream",
          "name": "stdout",
          "text": [
            "  issue_date permit_group             permit_type  \\\n",
            "0 2021-03-24        Trade  Electrical Residential   \n",
            "1 2021-06-16        Trade  Electrical Residential   \n",
            "2 2021-06-16        Trade    Plumbing Residential   \n",
            "3 2021-11-04        Trade    Plumbing Residential   \n",
            "4 2021-04-06        Trade   Electrical Commercial   \n",
            "\n",
            "                         sub_type               work_type neighbourhood_name  \\\n",
            "0                       Homeowner            Service Only          SOUTHDALE   \n",
            "1                       Homeowner            Service Only       ISLAND LAKES   \n",
            "2                       Homeowner       Plumb Lower Level          MEADOWOOD   \n",
            "3    Licensed Plumbing Contractor           Plumb New SFD         BROOKLANDS   \n",
            "4  Licensed Electrical Contractor  Temporary Installation           McMILLAN   \n",
            "\n",
            "                    community          ward application_received_date  status  \\\n",
            "0                        Riel  St. Boniface                2021-03-24  Issued   \n",
            "1                        Riel  St. Boniface                2021-06-10  Issued   \n",
            "2                        Riel     St. Vital                2021-06-16  Issued   \n",
            "3  Lord Selkirk-West Kildonan           nan                2021-11-03  Issued   \n",
            "4                 City Centre           nan                2021-04-05  Closed   \n",
            "\n",
            "   x_coordinate_nad83  y_coordinate_nad83  \n",
            "0         639592.3073        5.523457e+06  \n",
            "1         639430.5688        5.521707e+06  \n",
            "2         637156.0170        5.521437e+06  \n",
            "3                 NaN                 NaN  \n",
            "4                 NaN                 NaN  \n"
          ]
        }
      ]
    }
  ]
}